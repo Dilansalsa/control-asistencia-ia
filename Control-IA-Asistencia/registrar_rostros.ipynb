{
 "cells": [
  {
   "cell_type": "code",
   "execution_count": 1,
   "id": "d2b4a022-df85-4981-9729-6595e2a624ae",
   "metadata": {},
   "outputs": [
    {
     "name": "stdout",
     "output_type": "stream",
     "text": [
      "Requirement already satisfied: opencv-python in c:\\users\\dell\\anaconda3\\lib\\site-packages (4.11.0.86)\n",
      "Requirement already satisfied: numpy>=1.21.2 in c:\\users\\dell\\anaconda3\\lib\\site-packages (from opencv-python) (1.26.4)\n"
     ]
    }
   ],
   "source": [
    "!pip install opencv-python"
   ]
  },
  {
   "cell_type": "code",
   "execution_count": 1,
   "id": "d641efac-c9fc-492f-98cf-7adc8bb18a40",
   "metadata": {},
   "outputs": [
    {
     "name": "stdin",
     "output_type": "stream",
     "text": [
      "Ingrese el nombre del estudiante:  dilan\n"
     ]
    },
    {
     "name": "stdout",
     "output_type": "stream",
     "text": [
      "Presiona 's' para guardar la imagen. Presiona 'q' para salir sin guardar.\n",
      "Rostro de 'dilan' guardado en: dataset/dilan.jpg\n"
     ]
    }
   ],
   "source": [
    "import cv2\n",
    "import os\n",
    "\n",
    "nombre = input(\"Ingrese el nombre del estudiante: \").strip()\n",
    "\n",
    "if not os.path.exists(\"dataset\"):\n",
    "    os.makedirs(\"dataset\")\n",
    "\n",
    "ruta_imagen = f\"dataset/{nombre}.jpg\"\n",
    "\n",
    "\n",
    "cam = cv2.VideoCapture(0)\n",
    "print(\"Presiona 's' para guardar la imagen. Presiona 'q' para salir sin guardar.\")\n",
    "\n",
    "while True:\n",
    "    ret, frame = cam.read()\n",
    "    if not ret:\n",
    "        print(\"No se pudo acceder a la cámara.\")\n",
    "        break\n",
    "\n",
    "\n",
    "    cv2.imshow(\"Registrar rostro\", frame)\n",
    "\n",
    "\n",
    "    key = cv2.waitKey(1) & 0xFF\n",
    "\n",
    "    if key == ord('s'):\n",
    "\n",
    "        cv2.imwrite(ruta_imagen, frame)\n",
    "        print(f\"Rostro de '{nombre}' guardado en: {ruta_imagen}\")\n",
    "        break\n",
    "    elif key == ord('q'):\n",
    "        print(\"Salida sin guardar imagen.\")\n",
    "        break\n",
    "\n",
    "\n",
    "cam.release()\n",
    "cv2.destroyAllWindows()\n"
   ]
  },
  {
   "cell_type": "code",
   "execution_count": null,
   "id": "cbd3f230-0d8b-4d82-9917-6cffe4d968fc",
   "metadata": {},
   "outputs": [],
   "source": []
  }
 ],
 "metadata": {
  "kernelspec": {
   "display_name": "Python 3 (ipykernel)",
   "language": "python",
   "name": "python3"
  },
  "language_info": {
   "codemirror_mode": {
    "name": "ipython",
    "version": 3
   },
   "file_extension": ".py",
   "mimetype": "text/x-python",
   "name": "python",
   "nbconvert_exporter": "python",
   "pygments_lexer": "ipython3",
   "version": "3.12.7"
  }
 },
 "nbformat": 4,
 "nbformat_minor": 5
}
